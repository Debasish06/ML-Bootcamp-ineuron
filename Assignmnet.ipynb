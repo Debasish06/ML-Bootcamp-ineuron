{
 "cells": [
  {
   "cell_type": "markdown",
   "id": "f7915024",
   "metadata": {},
   "source": [
    "### 13/12/2022"
   ]
  },
  {
   "cell_type": "markdown",
   "id": "cc7801be",
   "metadata": {},
   "source": [
    "#### 1)WAP to accept two numbers from the user and display their sum\n"
   ]
  },
  {
   "cell_type": "code",
   "execution_count": 11,
   "id": "3fd41d92",
   "metadata": {},
   "outputs": [
    {
     "name": "stdout",
     "output_type": "stream",
     "text": [
      "Enter the first number :3\n",
      "Enter the second number :4\n",
      "Sum of your two numbers is --> 7\n"
     ]
    }
   ],
   "source": [
    "num1 = int(input(\"Enter the first number :\" ))\n",
    "num2 = int(input(\"Enter the second number :\" ))\n",
    "num = num1+num2\n",
    "print(\"Sum of your two numbers is -->\",num)"
   ]
  },
  {
   "cell_type": "markdown",
   "id": "76dfd3ff",
   "metadata": {},
   "source": [
    "#### 2)WAP to accept radius of a Circle from the user and calculate area and circumference\n"
   ]
  },
  {
   "cell_type": "code",
   "execution_count": 27,
   "id": "afec96ab",
   "metadata": {},
   "outputs": [
    {
     "name": "stdout",
     "output_type": "stream",
     "text": [
      "Enter Radius : 4\n",
      "area of the circle = 50.2655 \n",
      "circumference of the circle = 25.1327\n"
     ]
    }
   ],
   "source": [
    "import math\n",
    "rad = int(input(\"Enter Radius : \"))\n",
    "pi = math.pi\n",
    "area = round(pi*rad**2,4)\n",
    "cir = round(2*pi*rad,4)\n",
    "print(\"area of the circle = {} \\ncircumference of the circle = {}\".format(area,cir))"
   ]
  },
  {
   "cell_type": "markdown",
   "id": "8fec0975",
   "metadata": {},
   "source": [
    "#### 3)WAP to accept roll number , grade and percentage as input from the user and display it back\n",
    "\n"
   ]
  },
  {
   "cell_type": "code",
   "execution_count": 29,
   "id": "fca2791f",
   "metadata": {},
   "outputs": [
    {
     "name": "stdout",
     "output_type": "stream",
     "text": [
      "Enter your Roll Number : 12\n",
      "Enter your Grade : 2\n",
      "Enter your percentage :45\n",
      "Roll number = 12 \n",
      "Grade = 2 \n",
      "Percentage = 45.0\n"
     ]
    }
   ],
   "source": [
    "roll_num = int(input(\"Enter your Roll Number : \"))\n",
    "grade = input(\"Enter your Grade : \")\n",
    "percentage = float(input(\"Enter your percentage :\"))\n",
    "print(\"Roll number = {} \\nGrade = {} \\nPercentage = {}\".format(roll_num,grade,percentage))"
   ]
  },
  {
   "cell_type": "markdown",
   "id": "ec9a593d",
   "metadata": {},
   "source": [
    "#### 4)Write a program that asks the user to enter his/her name and age. Print out a message , displaying the user’s name along with the year in which they will turn 100 years old.\n"
   ]
  },
  {
   "cell_type": "code",
   "execution_count": 12,
   "id": "54c1f4f0",
   "metadata": {},
   "outputs": [
    {
     "name": "stdout",
     "output_type": "stream",
     "text": [
      "Enter your Name : Debasish\n",
      "Enter your Age : 23\n",
      "Dear Debasish,\n",
      "     You will be turning 100 in the year 2099 \n",
      "         😀😀😀\n"
     ]
    }
   ],
   "source": [
    "name = input(\"Enter your Name : \")\n",
    "age = int(input(\"Enter your Age : \"))\n",
    "age_100 = 100-age+2022\n",
    "print(\"Dear {},\\n     You will be turning 100 in the year {} \\n         \\U0001f600\\U0001f600\\U0001f600\".format(name,age_100))\n"
   ]
  },
  {
   "cell_type": "markdown",
   "id": "46854494",
   "metadata": {},
   "source": [
    "#### 5)Write a Python program which accepts the user's first and last name and print them in reverse order with a space between them.\n"
   ]
  },
  {
   "cell_type": "code",
   "execution_count": 53,
   "id": "64146b72",
   "metadata": {},
   "outputs": [
    {
     "name": "stdout",
     "output_type": "stream",
     "text": [
      "Enter your first name : debasish\n",
      "Enter your last name : bhagawati\n",
      "hsisabed itawagahb\n"
     ]
    }
   ],
   "source": [
    "first_name = input(\"Enter your first name : \")\n",
    "last_name = input(\"Enter your last name : \")\n",
    "print(first_name[::-1] +\" \"+last_name[::-1])"
   ]
  },
  {
   "cell_type": "markdown",
   "id": "c1c92579",
   "metadata": {},
   "source": [
    "### 15/12/2022\n",
    "\n"
   ]
  },
  {
   "cell_type": "markdown",
   "id": "63b922dc",
   "metadata": {},
   "source": [
    "#### 1)WAP to accept an integer from the user and check whether it is an even or odd \n"
   ]
  },
  {
   "cell_type": "code",
   "execution_count": 55,
   "id": "1e048a45",
   "metadata": {},
   "outputs": [
    {
     "name": "stdout",
     "output_type": "stream",
     "text": [
      "Enter a Number :7\n",
      "7 is odd\n"
     ]
    }
   ],
   "source": [
    "num = int(input(\"Enter a Number :\"))\n",
    "if num%2 == 0 :\n",
    "    print(\"{} is even\".format(num))\n",
    "else :\n",
    "    print(\"{} is odd\".format(num))"
   ]
  },
  {
   "cell_type": "markdown",
   "id": "fcdfdd54",
   "metadata": {},
   "source": [
    "#### 2)WAP to accept a character from the user and check whether it is a capital letter or small letter. Assume user will input only alphabets\n"
   ]
  },
  {
   "cell_type": "code",
   "execution_count": 13,
   "id": "53688e10",
   "metadata": {},
   "outputs": [
    {
     "name": "stdout",
     "output_type": "stream",
     "text": [
      "Enter a character (a:z or A:Z) : A\n",
      "Capital\n"
     ]
    }
   ],
   "source": [
    "cha = input(\"Enter a character (a:z or A:Z) : \")\n",
    "if \"a\"<=cha[0]<=\"z\" :\n",
    "    print(\"small letter\")\n",
    "else :\n",
    "    print(\"Capital\")"
   ]
  },
  {
   "cell_type": "markdown",
   "id": "06835db8",
   "metadata": {},
   "source": [
    "#### 3)WAP to accept a character from the user and check whether it is a capital letter or small letter or a digit or some special symbol\n"
   ]
  },
  {
   "cell_type": "code",
   "execution_count": 33,
   "id": "456262bc",
   "metadata": {},
   "outputs": [
    {
     "name": "stdout",
     "output_type": "stream",
     "text": [
      "Please Enter Your Character : 3\n",
      "The Given Character  3 is a Digit\n"
     ]
    }
   ],
   "source": [
    "ch = input(\"Please Enter Your Character : \")\n",
    "if(ord(ch) >= 48 and ord(ch) <= 57): \n",
    "    print(\"The Given Character \", ch, \"is a Digit\") \n",
    "elif ord(ch) >= 65 and ord(ch) <= 90 :\n",
    "    print(\"The Given Character \", ch, \"is a Small letter alphabet\")\n",
    "elif ord(ch) >= 97 and ord(ch) <= 122 :\n",
    "    print(\"The Given Character \", ch, \"is a Capital letter Alphabet\")\n",
    "else:\n",
    "    print(\"The Given Character \", ch, \"is a Special Character\")"
   ]
  },
  {
   "cell_type": "markdown",
   "id": "939ce133",
   "metadata": {},
   "source": [
    "#### 4)WAP to accept 3 integers from the user and without using any logical operator and cascading of relational operators , find out the greatest number amongst them\n",
    "\n"
   ]
  },
  {
   "cell_type": "code",
   "execution_count": 14,
   "id": "d304da39",
   "metadata": {},
   "outputs": [
    {
     "name": "stdout",
     "output_type": "stream",
     "text": [
      "Please Enter the first Number : 30\n",
      "Please Enter the second Number : 50\n",
      "Please Enter the third Number : 10\n",
      "The maximum number between 30,50,10 is 50\n"
     ]
    }
   ],
   "source": [
    "num1 = int(input(\"Please Enter the first Number : \"))\n",
    "num2 = int(input(\"Please Enter the second Number : \"))\n",
    "num3 = int(input(\"Please Enter the third Number : \"))\n",
    "max_num= max(num1,num2,num3)\n",
    "print(\"The maximum number between {},{},{} is {}\".format(num1,num2,num3,max_num))"
   ]
  },
  {
   "cell_type": "markdown",
   "id": "fed69f02",
   "metadata": {},
   "source": [
    "#### 5)WAP to accept a year from the user and check whether it is a leap year or not.\n"
   ]
  },
  {
   "cell_type": "code",
   "execution_count": 45,
   "id": "0ce5a6f1",
   "metadata": {},
   "outputs": [
    {
     "name": "stdout",
     "output_type": "stream",
     "text": [
      "Enter year to be checked : 2999\n",
      "2999 is not a leap year\n"
     ]
    }
   ],
   "source": [
    "year = int(input(\"Enter year to be checked : \"))\n",
    "if (year % 400 == 0) and (year % 100 == 0):\n",
    "    print(\"{} is a leap year\".format(year))\n",
    "elif (year % 4 ==0) and (year % 100 != 0):\n",
    "    print(\"{} is a leap year\".format(year))\n",
    "else:\n",
    "    print(\"{} is not a leap year\".format(year))"
   ]
  },
  {
   "cell_type": "markdown",
   "id": "1d73be0a",
   "metadata": {},
   "source": [
    "#### 6)You have to develop a number guessing game."
   ]
  },
  {
   "cell_type": "code",
   "execution_count": 10,
   "id": "2f9d93bc",
   "metadata": {},
   "outputs": [
    {
     "name": "stdout",
     "output_type": "stream",
     "text": [
      "Enter any Number: 60\n",
      "Number too large\n",
      "Enter number again: 50\n",
      "Number too large\n",
      "Enter number again: 40\n",
      "Number too large\n",
      "Enter number again: 30\n",
      "Number too large\n",
      "Enter number again: 20\n",
      "Number too large\n",
      "Enter number again: 10\n",
      "Number too small\n",
      "Enter number again: 15\n",
      "Number too small\n",
      "Enter number again: 17\n",
      "Number too small\n",
      "Enter number again: 18\n",
      "Congratulations! You guessed it right\n"
     ]
    }
   ],
   "source": [
    "import random\n",
    "n = random.randrange(1,100)\n",
    "guess = int(input(\"Enter any Number: \"))\n",
    "while n!= guess:\n",
    "    if guess < n:\n",
    "        print(\"Number too small\")\n",
    "        guess = int(input(\"Enter number again: \"))\n",
    "    elif guess > n:\n",
    "        print(\"Number too large\" )\n",
    "        guess = int(input(\"Enter number again: \"))\n",
    "    else:\n",
    "      break\n",
    "print(\"Congratulations! You guessed it right\")"
   ]
  },
  {
   "cell_type": "markdown",
   "id": "e0a6246e",
   "metadata": {},
   "source": [
    "#### 7)Write a program to accept a string from the user and display it vertically but don’t display the vowels in it.\n"
   ]
  },
  {
   "cell_type": "code",
   "execution_count": 19,
   "id": "829f1237",
   "metadata": {},
   "outputs": [
    {
     "name": "stdout",
     "output_type": "stream",
     "text": [
      "Enter a string : Debasish Bhagawati\n",
      "D\n",
      "b\n",
      "s\n",
      "s\n",
      "h\n",
      " \n",
      "B\n",
      "h\n",
      "g\n",
      "w\n",
      "t\n"
     ]
    }
   ],
   "source": [
    "n = input(\"Enter a string : \")\n",
    "for i in range(len(n)) :\n",
    "    if n[i] not in 'aeiou':\n",
    "        if n[i] not in 'AEIOU':\n",
    "             print(n[i])"
   ]
  },
  {
   "cell_type": "markdown",
   "id": "ca28b61b",
   "metadata": {},
   "source": [
    "#### 8)Write a program to continuously accept integers from the user until the user types 0 and as soon as 0 is entered display sum of all the nos entered before 0\n"
   ]
  },
  {
   "cell_type": "code",
   "execution_count": 49,
   "id": "0f304027",
   "metadata": {},
   "outputs": [
    {
     "name": "stdout",
     "output_type": "stream",
     "text": [
      "Enter a number :2\n",
      "Enter a number :-2\n",
      "Enter a number :43435\n",
      "Enter a number :0\n",
      "Sum---> 43437\n"
     ]
    }
   ],
   "source": [
    "num = None\n",
    "sum=0\n",
    "while num != 0 :\n",
    "    num= int(input(\"Enter a number :\"))\n",
    "    \n",
    "    if num < 0 :\n",
    "        continue\n",
    "    sum = num+sum\n",
    "    \n",
    "print(\"Sum--->\", sum)\n",
    "    "
   ]
  },
  {
   "cell_type": "markdown",
   "id": "48ef61bd",
   "metadata": {},
   "source": [
    "#### 9)Write a program using a for loop to accept a string from the user and display it vertically but don’t display the vowels in it.\n",
    "\n"
   ]
  },
  {
   "cell_type": "code",
   "execution_count": 50,
   "id": "c3f27c98",
   "metadata": {},
   "outputs": [
    {
     "name": "stdout",
     "output_type": "stream",
     "text": [
      "Enter a string : eqwriwejn shf\n",
      "q\n",
      "w\n",
      "r\n",
      "w\n",
      "j\n",
      "n\n",
      " \n",
      "s\n",
      "h\n",
      "f\n"
     ]
    }
   ],
   "source": [
    "n = input(\"Enter a string : \")\n",
    "for i in range(len(n)) :\n",
    "    if n[i] not in 'aeiou':\n",
    "        if n[i] not in 'AEIOU':\n",
    "             print(n[i])\n",
    "\n",
    "\n"
   ]
  },
  {
   "cell_type": "markdown",
   "id": "73dd06f2",
   "metadata": {},
   "source": [
    "#### 10)Write a program to accept an integer from the user and display the sum of all the numbers from 1 to that number.\n"
   ]
  },
  {
   "cell_type": "code",
   "execution_count": 82,
   "id": "4c97d1ef",
   "metadata": {},
   "outputs": [
    {
     "name": "stdout",
     "output_type": "stream",
     "text": [
      "Enter the Number 100\n",
      "sum of all the numbers from 1 to 100 is 5050\n"
     ]
    }
   ],
   "source": [
    "num = int(input(\"Enter the Number \"))\n",
    "num1=num\n",
    "for i in range(num) :\n",
    "    num1 = num1+i\n",
    "print(\"sum of all the numbers from 1 to {0} is\".format(num),num1)"
   ]
  },
  {
   "cell_type": "markdown",
   "id": "d78a3199",
   "metadata": {},
   "source": [
    "#### 11)Write a program to accept an integer from the user and calculate its factorial\n"
   ]
  },
  {
   "cell_type": "code",
   "execution_count": 85,
   "id": "a860cdfa",
   "metadata": {},
   "outputs": [
    {
     "name": "stdout",
     "output_type": "stream",
     "text": [
      "Enter a number: 0\n",
      "The factorial of 0 is 1\n"
     ]
    }
   ],
   "source": [
    "num = int(input(\"Enter a number: \"))    \n",
    "factorial = 1    \n",
    "if num < 0:    \n",
    "   print(\" Factorial does not exist for negative numbers\")    \n",
    "elif num == 0:    \n",
    "   print(\"The factorial of 0 is 1\")    \n",
    "else:    \n",
    "   for i in range(1,num + 1):    \n",
    "       factorial = factorial*i    \n",
    "   print(\"The factorial of\",num,\"is\",factorial)    "
   ]
  },
  {
   "cell_type": "markdown",
   "id": "27d7421e",
   "metadata": {},
   "source": [
    "#### 12)Write a program to print the following pattern \n",
    "# ***\n",
    "# ***\n",
    "# ***\n",
    "# ***"
   ]
  },
  {
   "cell_type": "code",
   "execution_count": 115,
   "id": "37ad4dd9",
   "metadata": {},
   "outputs": [
    {
     "name": "stdout",
     "output_type": "stream",
     "text": [
      "* * * * \n",
      "* * * * \n",
      "* * * * \n",
      "* * * * \n"
     ]
    }
   ],
   "source": [
    "for i in range(4) :\n",
    "    for j in range(4) :\n",
    "        print(\"*\",end=\" \")\n",
    "    print()"
   ]
  },
  {
   "cell_type": "markdown",
   "id": "3d58cae4",
   "metadata": {},
   "source": [
    "#### 13)Write a program to print the following pattern \n",
    "# *\n",
    "# **\n",
    "# ***\n",
    "# ****"
   ]
  },
  {
   "cell_type": "code",
   "execution_count": 118,
   "id": "aad21572",
   "metadata": {},
   "outputs": [
    {
     "name": "stdout",
     "output_type": "stream",
     "text": [
      "*\n",
      "**\n",
      "***\n",
      "****\n"
     ]
    }
   ],
   "source": [
    "for i in range(4) :\n",
    "    for j in range(i+1):\n",
    "        print(\"*\",end='')\n",
    "    print()"
   ]
  },
  {
   "cell_type": "markdown",
   "id": "2d36c875",
   "metadata": {},
   "source": [
    "#### 14)Write a program to print the following pattern \n",
    "# ****\n",
    "# ***\n",
    "# **\n",
    "# *\n"
   ]
  },
  {
   "cell_type": "code",
   "execution_count": 120,
   "id": "6abf598a",
   "metadata": {},
   "outputs": [
    {
     "name": "stdout",
     "output_type": "stream",
     "text": [
      "****\n",
      "***\n",
      "**\n",
      "*\n"
     ]
    }
   ],
   "source": [
    "for i in range(4) :\n",
    "    for j in range(4-i) :\n",
    "        print(\"*\",end='')\n",
    "    print()"
   ]
  },
  {
   "cell_type": "markdown",
   "id": "2ff661e0",
   "metadata": {},
   "source": [
    "#### 15) Write a program to accept an integer from the user and display all the numbers from 1 to that number. Repeat the process until the user enters 0.\n"
   ]
  },
  {
   "cell_type": "code",
   "execution_count": 15,
   "id": "348e9b56",
   "metadata": {},
   "outputs": [
    {
     "name": "stdout",
     "output_type": "stream",
     "text": [
      "Enter the Number : 4\n",
      "[0, 1, 2, 3, 4]\n",
      "Enter the Number : 5\n",
      "[0, 1, 2, 3, 4, 5]\n",
      "Enter the Number : 7\n",
      "[0, 1, 2, 3, 4, 5, 6, 7]\n",
      "Enter the Number : 0\n"
     ]
    }
   ],
   "source": [
    "i=0\n",
    "num = int(input(\"Enter the Number : \"))\n",
    "while num != 0 :\n",
    "    print(list(range(num+1)))\n",
    "    num = int(input(\"Enter the Number : \"))\n",
    "i=i+1"
   ]
  },
  {
   "cell_type": "code",
   "execution_count": null,
   "id": "c58398ae",
   "metadata": {},
   "outputs": [],
   "source": []
  }
 ],
 "metadata": {
  "kernelspec": {
   "display_name": "Python 3 (ipykernel)",
   "language": "python",
   "name": "python3"
  },
  "language_info": {
   "codemirror_mode": {
    "name": "ipython",
    "version": 3
   },
   "file_extension": ".py",
   "mimetype": "text/x-python",
   "name": "python",
   "nbconvert_exporter": "python",
   "pygments_lexer": "ipython3",
   "version": "3.9.7"
  }
 },
 "nbformat": 4,
 "nbformat_minor": 5
}
